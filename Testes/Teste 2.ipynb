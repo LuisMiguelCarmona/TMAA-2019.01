{
 "cells": [
  {
   "cell_type": "code",
   "execution_count": 32,
   "metadata": {},
   "outputs": [],
   "source": [
    "# Topicos de matematica aplicada A\n",
    "# Prof: Milton Ramirez\n",
    "# Teste 2\n",
    "\n",
    "# Luis Miguel Carmona\n",
    "# Matheus Moreira\n",
    "# Felipe Rodrigues\n",
    "# Vinicius Rabello"
   ]
  },
  {
   "cell_type": "code",
   "execution_count": 30,
   "metadata": {},
   "outputs": [],
   "source": [
    "import csv\n",
    "import time\n",
    "import matplotlib.pyplot as plt"
   ]
  },
  {
   "cell_type": "code",
   "execution_count": 31,
   "metadata": {},
   "outputs": [
    {
     "name": "stdout",
     "output_type": "stream",
     "text": [
      "\n",
      "\n",
      "16 ANOS :   378660\n",
      "17 ANOS :   1138437\n",
      "18 A 20 ANOS :   8219461\n",
      "21 A 24 ANOS :   12649749\n",
      "25 A 34 ANOS :   31233376\n",
      "35 A 44 ANOS :   30130016\n",
      "45 A 59 ANOS :   35433534\n",
      "60 A 69 ANOS :   15372964\n",
      "70 A 79 ANOS :   7784457\n",
      "SUPERIOR A 79 ANOS :   4105502\n",
      "INVÁLIDA :   21616\n",
      "\n",
      "\n",
      "\n",
      "\n",
      "\n",
      "\n",
      "\n",
      "\n",
      "\n",
      "\n",
      " Tempo de duração do processo:  4.943886041641235\n"
     ]
    },
    {
     "data": {
      "image/png": "[encoded data removed]",
      "text/plain": [
       "<Figure size 432x288 with 1 Axes>"
      ]
     },
     "metadata": {
      "needs_background": "light"
     },
     "output_type": "display_data"
    }
   ],
   "source": [
    "inicio = time.time()\n",
    "\n",
    "# Forma mais eficiente e melhor\n",
    "\n",
    "with open(\"perfil_eleitorado_ATUAL.csv\") as arq:\n",
    "    dados = csv.reader(arq,delimiter = ';')\n",
    "    dici = {}\n",
    "    for linhas in dados:\n",
    "        if linhas[6] not in dici:\n",
    "            dici[linhas[6]] = 0\n",
    "        dici[linhas[6]] += int(linhas[8])\n",
    "\n",
    "lista = []\n",
    "lista2 = []\n",
    "print('\\n')\n",
    "for i in dici:\n",
    "    print(i,\":  \",dici[i])\n",
    "    lista2.append(dici[i])\n",
    "    lista.append(i)\n",
    "    \n",
    "plt.plot(lista,lista2)\n",
    "\n",
    "\n",
    "fim = time.time()\n",
    "print(\"\\n\"*10,\"Tempo de duração do processo: \",fim-inicio)\n"
   ]
  },
  {
   "cell_type": "code",
   "execution_count": 11,
   "metadata": {},
   "outputs": [
    {
     "name": "stdout",
     "output_type": "stream",
     "text": [
      "Pessoas com 16 anos:  378660\n",
      "Pessoas com 17 anos:  1138437\n",
      "Pessoas com 18 anos:  8219461\n",
      "Pessoas com 21 anos:  12649749\n",
      "Pessoas com 25 anos:  31233376\n",
      "Pessoas com 35 anos:  30130016\n",
      "Pessoas com 45 anos:  35433534\n",
      "Pessoas com 60 anos:  15372964\n",
      "Pessoas com 70 anos:  7784457\n",
      "Pessoas com registro inválido:  21616\n",
      "\n",
      "\n",
      "\n",
      "\n",
      "\n",
      "\n",
      "\n",
      "\n",
      "\n",
      "\n",
      " Tempo de duração do processo:  4.874907970428467\n"
     ]
    }
   ],
   "source": [
    "inicio = time.time()\n",
    "\n",
    "# Forma não eficiente\n",
    "\n",
    "Anos16,Anos17,Anos18,Anos21,Anos25,Anos35,Anos45,Anos60,Anos70,Invalidos = 0,0,0,0,0,0,0,0,0,0\n",
    "\n",
    "with open(\"perfil_eleitorado_ATUAL.csv\") as arq:\n",
    "    dados = csv.reader(arq,delimiter = ';')\n",
    "    for linhas in dados:\n",
    "        if linhas[6] == '16 ANOS':\n",
    "            Anos16 += int(linhas[8])\n",
    "        if linhas[6] == '17 ANOS':\n",
    "            Anos17 += int(linhas[8])\n",
    "        if linhas[6] == '18 A 20 ANOS':\n",
    "            Anos18 += int(linhas[8])\n",
    "        if linhas[6] == '21 A 24 ANOS':\n",
    "            Anos21 += int(linhas[8])\n",
    "        if linhas[6] == '25 A 34 ANOS':\n",
    "            Anos25 += int(linhas[8])\n",
    "        if linhas[6] == '35 A 44 ANOS':\n",
    "            Anos35 += int(linhas[8])\n",
    "        if linhas[6] == '45 A 59 ANOS':\n",
    "            Anos45 += int(linhas[8])\n",
    "        if linhas[6] == '60 A 69 ANOS':\n",
    "            Anos60 += int(linhas[8])\n",
    "        if linhas[6] == '70 A 79 ANOS':\n",
    "            Anos70 += int(linhas[8])\n",
    "        if linhas[6] == 'INVÁLIDA':\n",
    "            Invalidos += int(linhas[8])\n",
    "\n",
    "print(\"Pessoas com 16 anos: \",Anos16)            \n",
    "print(\"Pessoas com 17 anos: \",Anos17)\n",
    "print(\"Pessoas com 18 anos: \",Anos18)\n",
    "print(\"Pessoas com 21 anos: \",Anos21)\n",
    "print(\"Pessoas com 25 anos: \",Anos25)\n",
    "print(\"Pessoas com 35 anos: \",Anos35)\n",
    "print(\"Pessoas com 45 anos: \",Anos45)\n",
    "print(\"Pessoas com 60 anos: \",Anos60)\n",
    "print(\"Pessoas com 70 anos: \",Anos70)\n",
    "print(\"Pessoas com registro inválido: \",Invalidos)\n",
    "\n",
    "fim = time.time()\n",
    "print(\"\\n\"*10,\"Tempo de duração do processo: \",fim-inicio)"
   ]
  }
 ],
 "metadata": {
  "kernelspec": {
   "display_name": "Python 3",
   "language": "python",
   "name": "python3"
  },
  "language_info": {
   "codemirror_mode": {
    "name": "ipython",
    "version": 3
   },
   "file_extension": ".py",
   "mimetype": "text/x-python",
   "name": "python",
   "nbconvert_exporter": "python",
   "pygments_lexer": "ipython3",
   "version": "3.7.1"
  }
 },
 "nbformat": 4,
 "nbformat_minor": 2
}
