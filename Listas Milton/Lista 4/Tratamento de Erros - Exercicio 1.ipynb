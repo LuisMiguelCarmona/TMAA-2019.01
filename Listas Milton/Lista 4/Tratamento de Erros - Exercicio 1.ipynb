{
 "cells": [
  {
   "cell_type": "code",
   "execution_count": 6,
   "metadata": {},
   "outputs": [
    {
     "name": "stdout",
     "output_type": "stream",
     "text": [
      "Qual é o nome do arquivo, com a sua extensão (.txt,.csv,etc)?ma\n",
      "Arquivo nao foi encontrado...\n",
      "Tente Novamente\n",
      "Qual é o nome do arquivo, com a sua extensão (.txt,.csv,etc)?mam\n",
      "Arquivo nao foi encontrado...\n",
      "Tente Novamente\n",
      "Qual é o nome do arquivo, com a sua extensão (.txt,.csv,etc)?mat\n",
      "Arquivo nao foi encontrado...\n",
      "Tente Novamente\n",
      "Qual é o nome do arquivo, com a sua extensão (.txt,.csv,etc)?matriz.txt\n",
      "\n",
      " [[1.1, 2.2, 4.4], [1.1, 1.7, 1.3], [4.5, 'NA', 1.3], [7.8, 'NA', 4.4]]\n"
     ]
    }
   ],
   "source": [
    "## Luis Miguel Carmona\n",
    "## DRE - 119066153\n",
    "## Matemática Aplicada\n",
    "\n",
    "\n",
    "# Arquivo que eu usei \"matriz.txt\"\n",
    "def abrir():\n",
    "    LC = []\n",
    "    l = []\n",
    "    num = -1\n",
    "    QA = input(\"Qual é o nome do arquivo, com a sua extensão (.txt,.csv,etc)?\")\n",
    "    try:\n",
    "        Nv = open(QA,'r')\n",
    "        NumLin = sum(1 for line in Nv) - 1\n",
    "        Nv.seek(0)\n",
    "        with open(QA, 'r') as f:\n",
    "            k = f.readline()\n",
    "            if len(k) != 1:\n",
    "                conf = [float(d) for d in (k.split(' '))]\n",
    "                if conf[0] != round(conf[0]) or conf[1] != round(conf[1]):\n",
    "                    raise IndexError(\"Primeira linha não é um inteiro ou não tem nada\")\n",
    "                else:\n",
    "                    col = list(map(int,k.split(' ')))\n",
    "                    if int(col[0]) == NumLin: \n",
    "                        for i in range(col[0]):\n",
    "                            t = f.readline()\n",
    "                            rt = list(map(float,t.split(' ')))\n",
    "                            linp = []\n",
    "                            for i in range(len(rt)):\n",
    "                                if rt[i] == int(rt[i]):\n",
    "                                    rt[i] = 'NA'\n",
    "                                else:\n",
    "                                    pass\n",
    "                                linp.append(rt[i])\n",
    "                            if len(linp) == col[1]:\n",
    "                                l.append(linp)\n",
    "                            else:\n",
    "                                print(\"Tamanho de coluna diferente...\")\n",
    "                                l.clear()\n",
    "                                print(\"Deu ruim pq o numero de colunas e o numero de elementos e diferente\")\n",
    "                                break\n",
    "                        print(\"\\n\",l)\n",
    "                    else:\n",
    "                        print(\"o numero de linhas e diferente do dado...\\nDeu Ruim\")\n",
    "            else:\n",
    "                print(\"Sua primeira linha está em branco\")\n",
    "    except FileNotFoundError:\n",
    "        print(\"Arquivo nao foi encontrado...\\nTente Novamente\")\n",
    "        abrir()\n",
    "\n",
    "abrir()"
   ]
  }
 ],
 "metadata": {
  "kernelspec": {
   "display_name": "Python 3",
   "language": "python",
   "name": "python3"
  },
  "language_info": {
   "codemirror_mode": {
    "name": "ipython",
    "version": 3
   },
   "file_extension": ".py",
   "mimetype": "text/x-python",
   "name": "python",
   "nbconvert_exporter": "python",
   "pygments_lexer": "ipython3",
   "version": "3.7.1"
  }
 },
 "nbformat": 4,
 "nbformat_minor": 2
}
