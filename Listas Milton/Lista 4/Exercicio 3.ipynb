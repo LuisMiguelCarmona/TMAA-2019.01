{
 "cells": [
  {
   "cell_type": "code",
   "execution_count": 46,
   "metadata": {},
   "outputs": [
    {
     "name": "stdout",
     "output_type": "stream",
     "text": [
      "Essa e a sua matriz original\n",
      "\n",
      "[1, 1, 1, 1, 1, 1, 1, 1, 1, 1, 1, 1, 1, 1, 1, 1]\n",
      "[1, 1, 0, 1, 0, 1, 1, 1, 1, 1, 1, 1, 1, 1, 1, 1]\n",
      "[1, 1, 0, 1, 0, 0, 1, 1, 1, 1, 1, 1, 1, 1, 1, 1]\n",
      "[1, 1, 0, 0, 1, 1, 0, 0, 0, 0, 0, 0, 1, 1, 1, 1]\n",
      "[1, 1, 0, 0, 1, 1, 1, 1, 1, 1, 0, 1, 1, 1, 1, 1]\n",
      "[1, 1, 1, 1, 1, 0, 1, 1, 1, 1, 1, 0, 1, 1, 1, 1]\n",
      "[1, 1, 1, 0, 0, 0, 1, 1, 1, 1, 1, 1, 0, 1, 1, 1]\n",
      "[1, 1, 1, 0, 1, 1, 1, 1, 1, 1, 1, 0, 1, 1, 1, 1]\n",
      "[1, 1, 1, 0, 1, 1, 1, 1, 0, 0, 0, 1, 1, 1, 1, 1]\n",
      "[1, 1, 1, 0, 1, 1, 1, 0, 0, 1, 1, 1, 1, 1, 1, 1]\n",
      "[1, 1, 1, 1, 0, 0, 0, 0, 1, 1, 1, 1, 1, 1, 1, 1]\n",
      "[1, 1, 1, 1, 1, 1, 1, 1, 1, 1, 1, 1, 1, 1, 1, 1]\n",
      "\n",
      "\n",
      "\n",
      "\n",
      "\n",
      " Essa e a sua nova matriz\n",
      "\n"
     ]
    },
    {
     "data": {
      "text/plain": [
       "[[1, 1, 1, 1, 1, 1, 1, 1, 1, 1, 1, 1, 1, 1, 1, 1],\n",
       " [1, 1, 0, 0, 0, 1, 1, 1, 1, 1, 1, 1, 1, 1, 1, 1],\n",
       " [1, 1, 0, 0, 0, 0, 1, 1, 1, 1, 1, 1, 1, 1, 1, 1],\n",
       " [1, 1, 0, 0, 0, 0, 0, 0, 0, 0, 0, 0, 1, 1, 1, 1],\n",
       " [1, 1, 0, 0, 0, 0, 0, 0, 0, 0, 0, 1, 1, 1, 1, 1],\n",
       " [1, 1, 1, 1, 1, 0, 0, 0, 0, 0, 0, 0, 1, 1, 1, 1],\n",
       " [1, 1, 1, 0, 0, 0, 0, 0, 0, 0, 0, 0, 0, 1, 1, 1],\n",
       " [1, 1, 1, 0, 0, 0, 0, 0, 0, 0, 0, 0, 1, 1, 1, 1],\n",
       " [1, 1, 1, 0, 0, 0, 0, 0, 0, 0, 0, 1, 1, 1, 1, 1],\n",
       " [1, 1, 1, 0, 0, 0, 0, 0, 0, 1, 1, 1, 1, 1, 1, 1],\n",
       " [1, 1, 1, 1, 0, 0, 0, 0, 1, 1, 1, 1, 1, 1, 1, 1],\n",
       " [1, 1, 1, 1, 1, 1, 1, 1, 1, 1, 1, 1, 1, 1, 1, 1]]"
      ]
     },
     "execution_count": 46,
     "metadata": {},
     "output_type": "execute_result"
    }
   ],
   "source": [
    "# Luis Miguel Moura Carmona\n",
    "# DRE: 119066153\n",
    "# Matematica Aplicada\n",
    "#\n",
    "# Nao entendi direito o exercicio mas espero que tenha sido isso (pelo menos ta funcionando e preenchendo os espacos de 0)\n",
    "\n",
    "\n",
    "def abrirArq():\n",
    "    l = []\n",
    "    with open('matrizes.txt', 'r') as f:\n",
    "        for line in f:\n",
    "            line = line.strip()\n",
    "            if len(line) > 0:\n",
    "                l.append(list(map(int, line.split(','))))\n",
    "    return l\n",
    "\n",
    "def preencher(matriz):\n",
    "    NumZerosLinha = []\n",
    "    print(\"Essa e a sua matriz original\\n\")\n",
    "    for g in range(len(matriz)):\n",
    "        print(matriz[g])\n",
    "    for i in range(len(matriz)):\n",
    "        for k in range(len(matriz[i])):\n",
    "            if matriz[i][k] == 0:\n",
    "                NumZerosLinha.append(1)\n",
    "        if len(NumZerosLinha) == 1:\n",
    "            return MatrizToda(matriz)\n",
    "        for j in range(len(matriz[i])):\n",
    "            if matriz[i][j] == int(0):\n",
    "                for h in range(len(matriz[i])):\n",
    "                    if matriz[i][-h] == int(0):\n",
    "                        for t in range(len(matriz[i])-h):\n",
    "                            if t > j:\n",
    "                                matriz[i][t] = 0\n",
    "            else:\n",
    "                pass\n",
    "    print(\"\\n\"*5,\"Essa e a sua nova matriz\\n\")\n",
    "    return matriz\n",
    "\n",
    "def MatrizToda(matriz): #Isso acontece caso tenha so um zero em alguma linha\n",
    "    print(\"\\n\"*5,\"Essa e a sua nova matriz (tudo zero)\\n\")\n",
    "    for j in range(len(matriz)):\n",
    "        for i in range(len(matriz[j])):\n",
    "            matriz[j][i] = 0\n",
    "        print(matriz[j])\n",
    "\n",
    "\n",
    "\n",
    "l = abrirArq()\n",
    "preencher(l)"
   ]
  }
 ],
 "metadata": {
  "kernelspec": {
   "display_name": "Python 3",
   "language": "python",
   "name": "python3"
  },
  "language_info": {
   "codemirror_mode": {
    "name": "ipython",
    "version": 3
   },
   "file_extension": ".py",
   "mimetype": "text/x-python",
   "name": "python",
   "nbconvert_exporter": "python",
   "pygments_lexer": "ipython3",
   "version": "3.7.1"
  }
 },
 "nbformat": 4,
 "nbformat_minor": 2
}
