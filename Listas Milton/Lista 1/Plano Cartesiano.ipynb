{
 "cells": [
  {
   "cell_type": "code",
   "execution_count": 1,
   "metadata": {},
   "outputs": [
    {
     "data": {
      "text/plain": [
       "'Luis Miguel Moura Carmona- DRE- 119066153 - Matemática Aplicada'"
      ]
     },
     "execution_count": 1,
     "metadata": {},
     "output_type": "execute_result"
    }
   ],
   "source": [
    "\"Luis Miguel Moura Carmona- DRE- 119066153 - Matemática Aplicada\""
   ]
  },
  {
   "cell_type": "code",
   "execution_count": 3,
   "metadata": {},
   "outputs": [
    {
     "name": "stdout",
     "output_type": "stream",
     "text": [
      "Qual é a sua localização? (Separe com um espaço o X e o Y) 0 0\n",
      "Distancia máxima que você irá andar em Kilometros? 15\n",
      "Quantos postos existem na região? 2\n",
      "Nome do posto? gffg\n",
      "Localizacao do posto (separe por espaço o X e o Y): 10 0\n",
      "\n",
      "Nome do posto? rgeeeeeeeeeeee\n",
      "Localizacao do posto (separe por espaço o X e o Y): 21 -1\n",
      "\n"
     ]
    },
    {
     "data": {
      "text/plain": [
       "[('gffg', 'sua distância até esse posto em km é:', 10.0)]"
      ]
     },
     "execution_count": 3,
     "metadata": {},
     "output_type": "execute_result"
    }
   ],
   "source": [
    "from math import sqrt\n",
    "def Distancia(a,b,c,d):\n",
    "    e = sqrt((a-c)**2+(b-d)**2)\n",
    "    return(e)\n",
    "\n",
    "lista = []\n",
    "F, K = [int(x) for x in input(\"Qual é a sua localização? (Separe com um espaço o X e o Y) \").split()]\n",
    "C = 1\n",
    "H = int(input(\"Distancia máxima que você irá andar em Kilometros? \"))\n",
    "P = int(input(\"Quantos postos existem na região? \"))\n",
    "T = P\n",
    "for i in range (P):\n",
    "    No = input(\"Nome do posto? \")\n",
    "    PX, PY = [int(x) for x in input(\"Localizacao do posto (separe por espaço o X e o Y): \").split()]\n",
    "    print (\"\")\n",
    "    W = Distancia(F,K,PX,PY)\n",
    "    if H >= W:\n",
    "            Y = (No, \"sua distância até esse posto em km é:\", W)\n",
    "            lista.append(Y)       \n",
    "\n",
    "lista"
   ]
  },
  {
   "cell_type": "code",
   "execution_count": null,
   "metadata": {},
   "outputs": [],
   "source": []
  }
 ],
 "metadata": {
  "kernelspec": {
   "display_name": "Python 3",
   "language": "python",
   "name": "python3"
  },
  "language_info": {
   "codemirror_mode": {
    "name": "ipython",
    "version": 3
   },
   "file_extension": ".py",
   "mimetype": "text/x-python",
   "name": "python",
   "nbconvert_exporter": "python",
   "pygments_lexer": "ipython3",
   "version": "3.7.1"
  }
 },
 "nbformat": 4,
 "nbformat_minor": 2
}
