{
 "cells": [
  {
   "cell_type": "code",
   "execution_count": 5,
   "metadata": {},
   "outputs": [
    {
     "data": {
      "text/plain": [
       "'Luis Miguel Moura Carmona- DRE- 119066153 - Matemática Aplicada'"
      ]
     },
     "execution_count": 5,
     "metadata": {},
     "output_type": "execute_result"
    }
   ],
   "source": [
    "\"Luis Miguel Moura Carmona- DRE- 119066153 - Matemática Aplicada\""
   ]
  },
  {
   "cell_type": "code",
   "execution_count": 10,
   "metadata": {},
   "outputs": [],
   "source": [
    "import cmath\n",
    "from math import sqrt\n",
    "def basky(a, b, c):\n",
    "    sq_delta = sqrt(b**2 - 4 * a * c)\n",
    "    x1 = (-b - sq_delta) / (2 * a)\n",
    "    x2 = (-b + sq_delta) / (2 * a)\n",
    "    return (x1, x2)\n",
    "def baskyC(a, b, c):\n",
    "    DLt = cmath.sqrt(b**2 - 4*a*c)\n",
    "    x1 = (-b - (DLt)) / (2 * a)\n",
    "    x2 = (-b + (DLt)) / (2 * a)\n",
    "    return (x1, x2) \n",
    "def delta(a, b, c):\n",
    "    x3 = ((b**2) - (4*a*c))\n",
    "    return (x3)\n"
   ]
  },
  {
   "cell_type": "code",
   "execution_count": 11,
   "metadata": {},
   "outputs": [
    {
     "name": "stdout",
     "output_type": "stream",
     "text": [
      "Qual o a? 1\n",
      "Qual o b? 1\n",
      "Qual o c? 5\n"
     ]
    }
   ],
   "source": [
    "a = float(input(\"Qual o a? \"))\n",
    "b = float(input(\"Qual o b? \"))\n",
    "c = float(input(\"Qual o c? \"))"
   ]
  },
  {
   "cell_type": "code",
   "execution_count": 14,
   "metadata": {},
   "outputs": [
    {
     "name": "stdout",
     "output_type": "stream",
     "text": [
      "O número não possui raizes reais!!!\n",
      "Essas sao suas raizes complexas:  ((-0.5-2.179449471770337j), (-0.5+2.179449471770337j))\n"
     ]
    }
   ],
   "source": [
    "K = delta(a,b,c)\n",
    "if a == 0:\n",
    "    print(\"Não é uma função do segundo grau!!!\")\n",
    "    exit()\n",
    "else:\n",
    "    if K > 0:\n",
    "        print(\"As raizes são:\")\n",
    "        h = basky(a,b,c)\n",
    "        print(h)\n",
    "    elif K == 0:\n",
    "        print (\"Tem uma raiz com multiplicidade dois!!!\")\n",
    "        Raiz = (-b/2*a)\n",
    "        print (Raiz)\n",
    "    elif K < 0:\n",
    "        print (\"O número não possui raizes reais!!!\")\n",
    "        print(\"Essas são suas raizes complexas: \",baskyC(a,b,c))"
   ]
  }
 ],
 "metadata": {
  "kernelspec": {
   "display_name": "Python 3",
   "language": "python",
   "name": "python3"
  },
  "language_info": {
   "codemirror_mode": {
    "name": "ipython",
    "version": 3
   },
   "file_extension": ".py",
   "mimetype": "text/x-python",
   "name": "python",
   "nbconvert_exporter": "python",
   "pygments_lexer": "ipython3",
   "version": "3.7.1"
  }
 },
 "nbformat": 4,
 "nbformat_minor": 2
}
