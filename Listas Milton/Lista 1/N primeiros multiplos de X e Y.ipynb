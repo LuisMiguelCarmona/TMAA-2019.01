{
 "cells": [
  {
   "cell_type": "code",
   "execution_count": null,
   "metadata": {},
   "outputs": [],
   "source": [
    "\"Luis Miguel Moura Carmona- DRE- 119066153 - Matemática Aplicada\""
   ]
  },
  {
   "cell_type": "code",
   "execution_count": 1,
   "metadata": {},
   "outputs": [
    {
     "name": "stdout",
     "output_type": "stream",
     "text": [
      "Diga quantos multiplos você quer: 5\n",
      "Quais os divisores? (Separe-os com um espaço)10 5\n",
      "[50, 100, 150, 200, 250]\n"
     ]
    }
   ],
   "source": [
    "lista = []\n",
    "P = 1\n",
    "T = int(input(\"Diga quantos multiplos você quer: \"))\n",
    "X,Y = [int(x) for x in input(\"Quais os divisores? (Separe-os com um espaço)\").split()]\n",
    "while True:\n",
    "    if P%(X*Y) == 0:\n",
    "        lista.append(P)\n",
    "    P = P + 1\n",
    "    if len(lista) >= T:\n",
    "        break\n",
    "print(lista)"
   ]
  },
  {
   "cell_type": "code",
   "execution_count": null,
   "metadata": {},
   "outputs": [],
   "source": []
  }
 ],
 "metadata": {
  "kernelspec": {
   "display_name": "Python 3",
   "language": "python",
   "name": "python3"
  },
  "language_info": {
   "codemirror_mode": {
    "name": "ipython",
    "version": 3
   },
   "file_extension": ".py",
   "mimetype": "text/x-python",
   "name": "python",
   "nbconvert_exporter": "python",
   "pygments_lexer": "ipython3",
   "version": "3.7.1"
  }
 },
 "nbformat": 4,
 "nbformat_minor": 2
}
