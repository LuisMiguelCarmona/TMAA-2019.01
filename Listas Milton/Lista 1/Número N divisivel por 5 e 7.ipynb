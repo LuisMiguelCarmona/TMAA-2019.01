{
 "cells": [
  {
   "cell_type": "code",
   "execution_count": null,
   "metadata": {},
   "outputs": [],
   "source": [
    "\"Luis Miguel Moura Carmona- DRE- 119066153 - Matemática Aplicada\""
   ]
  },
  {
   "cell_type": "code",
   "execution_count": 13,
   "metadata": {},
   "outputs": [
    {
     "name": "stdout",
     "output_type": "stream",
     "text": [
      "Número inicial:20\n",
      "\n",
      "Seu 1º divisor: 2\n",
      "Seu 2º divisor: 3\n",
      "[18, 16, 15, 14, 12, 10, 9, 8, 6, 4, 3, 2]\n",
      "117\n"
     ]
    }
   ],
   "source": [
    "lista = []\n",
    "A = int(input(\"Número inicial:\")) -1\n",
    "print(\"\")\n",
    "div1 = int(input(\"Seu 1º divisor: \"))\n",
    "div2 = int(input(\"Seu 2º divisor: \"))\n",
    "soma = 0\n",
    "for i in range (A):\n",
    "    if (A%div1 == 0) or (A%div2 == 0): \n",
    "        lista.append(A)\n",
    "        soma += A\n",
    "    A -= 1\n",
    "lista.sort\n",
    "print(lista)\n",
    "print(soma)"
   ]
  },
  {
   "cell_type": "code",
   "execution_count": null,
   "metadata": {},
   "outputs": [],
   "source": []
  }
 ],
 "metadata": {
  "kernelspec": {
   "display_name": "Python 3",
   "language": "python",
   "name": "python3"
  },
  "language_info": {
   "codemirror_mode": {
    "name": "ipython",
    "version": 3
   },
   "file_extension": ".py",
   "mimetype": "text/x-python",
   "name": "python",
   "nbconvert_exporter": "python",
   "pygments_lexer": "ipython3",
   "version": "3.7.1"
  }
 },
 "nbformat": 4,
 "nbformat_minor": 2
}
