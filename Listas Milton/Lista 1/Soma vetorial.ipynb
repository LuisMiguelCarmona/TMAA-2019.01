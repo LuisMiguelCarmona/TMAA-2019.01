{
 "cells": [
  {
   "cell_type": "code",
   "execution_count": 1,
   "metadata": {},
   "outputs": [
    {
     "data": {
      "text/plain": [
       "'Luis Miguel Moura Carmona- DRE- 119066153 - Matemática Aplicada'"
      ]
     },
     "execution_count": 1,
     "metadata": {},
     "output_type": "execute_result"
    }
   ],
   "source": [
    "\"Luis Miguel Moura Carmona- DRE- 119066153 - Matemática Aplicada\""
   ]
  },
  {
   "cell_type": "code",
   "execution_count": 2,
   "metadata": {},
   "outputs": [
    {
     "name": "stdout",
     "output_type": "stream",
     "text": [
      "Tamanho dos vetores: 4\n",
      "Número de Vetores: 3\n",
      "Escreva seu vetor separando-o por virgulas: 10,1,55,4\n",
      "\n",
      "Escreva seu vetor separando-o por virgulas: 56,5,5,4\n",
      "\n",
      "Escreva seu vetor separando-o por virgulas: 5,1,51,1\n",
      "\n",
      "[71, 7, 111, 9]\n"
     ]
    }
   ],
   "source": [
    "from operator import add\n",
    "K = int(input(\"Tamanho dos vetores: \"))\n",
    "V = int(input(\"Número de Vetores: \"))\n",
    "G = []\n",
    "W = 0\n",
    "a = 0\n",
    "for i in range(V):\n",
    "    x = [int(i) for i in input(\"Escreva seu vetor separando-o por virgulas: \").split(\",\")]\n",
    "    G.append(x)\n",
    "    print(\"\")\n",
    "for i in range(V-1):\n",
    "    G[a+1] = list(map(add,G[a],G[a+1]))\n",
    "    a = a + 1\n",
    "    D = G[a]\n",
    "print (D)"
   ]
  },
  {
   "cell_type": "code",
   "execution_count": null,
   "metadata": {},
   "outputs": [],
   "source": []
  }
 ],
 "metadata": {
  "kernelspec": {
   "display_name": "Python 3",
   "language": "python",
   "name": "python3"
  },
  "language_info": {
   "codemirror_mode": {
    "name": "ipython",
    "version": 3
   },
   "file_extension": ".py",
   "mimetype": "text/x-python",
   "name": "python",
   "nbconvert_exporter": "python",
   "pygments_lexer": "ipython3",
   "version": "3.7.1"
  }
 },
 "nbformat": 4,
 "nbformat_minor": 2
}
