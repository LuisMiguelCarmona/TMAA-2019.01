{
 "cells": [
  {
   "cell_type": "code",
   "execution_count": 3,
   "metadata": {},
   "outputs": [
    {
     "name": "stdout",
     "output_type": "stream",
     "text": [
      "Temos um total de 4184826 linhas(contando com o cabeçalho) e 21 colunas\n",
      "7.2287187576293945\n"
     ]
    }
   ],
   "source": [
    "## Luis Miguel Carmona\n",
    "## DRE - 119066153\n",
    "## Matemática Aplicada\n",
    "\n",
    "import os\n",
    "import time\n",
    "\n",
    "inicio = time.time()\n",
    "arquivos = os.listdir()\n",
    "listadosArq = []\n",
    "for csv in arquivos:\n",
    "        if csv[-4:]=='.csv':\n",
    "            listadosArq.append(csv)\n",
    "N1 = len(listadosArq)\n",
    "totall = 0\n",
    "for a in listadosArq:\n",
    "    arquivo = open(a,'r')\n",
    "    string = arquivo.read()\n",
    "    linhas = string.count('\\n')\n",
    "    totall += linhas\n",
    "    \n",
    "linhaunica = string.split('\\n')[3]\n",
    "colunas = linhaunica.split(';')\n",
    "totalc = len(colunas)\n",
    "\n",
    "print(\"Temos um total de\",totall,\"linhas(contando com o cabeçalho) e\" , totalc,\"colunas\")\n",
    "\n",
    "fim = time.time()\n",
    "print(fim-inicio) ## apenas um contador de tempo para ver eficiencia do código"
   ]
  }
 ],
 "metadata": {
  "kernelspec": {
   "display_name": "Python 3",
   "language": "python",
   "name": "python3"
  },
  "language_info": {
   "codemirror_mode": {
    "name": "ipython",
    "version": 3
   },
   "file_extension": ".py",
   "mimetype": "text/x-python",
   "name": "python",
   "nbconvert_exporter": "python",
   "pygments_lexer": "ipython3",
   "version": "3.7.1"
  }
 },
 "nbformat": 4,
 "nbformat_minor": 2
}
