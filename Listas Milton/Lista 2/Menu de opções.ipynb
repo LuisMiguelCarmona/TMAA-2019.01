{
 "cells": [
  {
   "cell_type": "code",
   "execution_count": 2,
   "metadata": {},
   "outputs": [
    {
     "data": {
      "text/plain": [
       "'Luis Miguel Moura Carmona- DRE- 119066153 - Matemática Aplicada'"
      ]
     },
     "execution_count": 2,
     "metadata": {},
     "output_type": "execute_result"
    }
   ],
   "source": []
  },
  {
   "cell_type": "code",
   "execution_count": 4,
   "metadata": {},
   "outputs": [
    {
     "name": "stdout",
     "output_type": "stream",
     "text": [
      "Luis Miguel Carmona\n",
      "DRE- 119066153 \n",
      "Matemática Aplicada\n",
      "\n",
      "Escolha um número:\n",
      "1- Soma de Vetores(w = z + y)\n",
      "2-Subtração de Vetores(w = z - y)\n",
      "3-Encerrar o programa\n",
      "Diga qual é a sua operação: 3\n",
      "\n",
      "Você saiu do programa\n"
     ]
    }
   ],
   "source": [
    "from operator import add\n",
    "from operator import sub\n",
    "print(\"Luis Miguel Carmona\\nDRE- 119066153 \\nMatemática Aplicada\\n\")\n",
    "print(\"Escolha um número:\\n1- Soma de Vetores(w = z + y)\\n2-Subtração de Vetores(w = z - y)\\n3-Encerrar o programa\")\n",
    "X = 0\n",
    "while True:\n",
    "    X = int(input(\"Diga qual é a sua operação: \"))\n",
    "    if X == 3:\n",
    "        print(\"\\nVocê saiu do programa\")\n",
    "        break\n",
    "    elif X != 3:\n",
    "        print(\"Separe os elementos dos vetores por uma virgula(,)\")\n",
    "        V1 = [int(i) for i in input(\"1º Vetor: \").split(',')]\n",
    "        V2 = [int(i) for i in input(\"2º Vetor: \").split(',')]\n",
    "        if X == 2:\n",
    "            print(list(map(sub,V1,V2)))\n",
    "        elif X == 1:\n",
    "            print(list(map(add,V1,V2)))"
   ]
  },
  {
   "cell_type": "code",
   "execution_count": null,
   "metadata": {},
   "outputs": [],
   "source": []
  }
 ],
 "metadata": {
  "kernelspec": {
   "display_name": "Python 3",
   "language": "python",
   "name": "python3"
  },
  "language_info": {
   "codemirror_mode": {
    "name": "ipython",
    "version": 3
   },
   "file_extension": ".py",
   "mimetype": "text/x-python",
   "name": "python",
   "nbconvert_exporter": "python",
   "pygments_lexer": "ipython3",
   "version": "3.7.1"
  }
 },
 "nbformat": 4,
 "nbformat_minor": 2
}
