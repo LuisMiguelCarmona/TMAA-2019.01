{
 "cells": [
  {
   "cell_type": "code",
   "execution_count": 5,
   "metadata": {},
   "outputs": [
    {
     "name": "stdout",
     "output_type": "stream",
     "text": [
      "Diga o número que eu direi seu maior primo: 20553\n",
      "\n",
      "Os fatores primos são:  [1, 3, 13, 17, 31]\n",
      "\n",
      "O maior fator primo é:  31\n"
     ]
    }
   ],
   "source": [
    "def primo (n):\n",
    "    p = 1\n",
    "    w = int(n**(1/2)) + 1\n",
    "    for i in range(w):\n",
    "        if n%p == 0:\n",
    "            G.append(p)\n",
    "            n = n/p\n",
    "        p += 2\n",
    "G = []\n",
    "X = int(input(\"Diga o número que eu direi seu maior primo: \"))\n",
    "primo(X)\n",
    "print(\"\\nOs fatores primos são: \",G)\n",
    "print(\"\\nO maior fator primo é: \",G[-1])"
   ]
  }
 ],
 "metadata": {
  "kernelspec": {
   "display_name": "Python 3",
   "language": "python",
   "name": "python3"
  },
  "language_info": {
   "codemirror_mode": {
    "name": "ipython",
    "version": 3
   },
   "file_extension": ".py",
   "mimetype": "text/x-python",
   "name": "python",
   "nbconvert_exporter": "python",
   "pygments_lexer": "ipython3",
   "version": "3.7.1"
  }
 },
 "nbformat": 4,
 "nbformat_minor": 2
}
