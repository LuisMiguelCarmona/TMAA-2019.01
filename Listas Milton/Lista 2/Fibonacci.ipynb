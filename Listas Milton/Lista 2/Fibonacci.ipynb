{
 "cells": [
  {
   "cell_type": "code",
   "execution_count": 25,
   "metadata": {},
   "outputs": [
    {
     "name": "stdout",
     "output_type": "stream",
     "text": [
      "Luis Miguel Moura Carmona\n",
      "DRE- 119066153\n",
      "Matemática Aplicada\n",
      "\n",
      "Não vai exceder qual número? 12222222222\n",
      "Quantos números da sequencia de Fibonacci você quer? 5\n",
      "os  5  primeiros números impares da sequêcia de fibonacci são:  [1, 1, 3, 5, 13]\n",
      "soma é igual a  23\n"
     ]
    }
   ],
   "source": [
    "print(\"Luis Miguel Moura Carmona\\nDRE- 119066153\\nMatemática Aplicada\\n\")\n",
    "def Fibonacci(N,R):\n",
    "    G = [1]\n",
    "    p = 0\n",
    "    soma = 1\n",
    "    u = 1\n",
    "    F = int(input(\"Quantos números da sequencia de Fibonacci você quer? \"))\n",
    "    while len(G) < F:\n",
    "        t = u + p\n",
    "        p = u\n",
    "        u = t\n",
    "        if u%2 == 1:\n",
    "            if u < R:\n",
    "                G.append(u)\n",
    "                soma += u\n",
    "    print(\"os \",F,\" primeiros números impares da sequêcia de fibonacci são: \", G)\n",
    "    print(\"soma é igual a \",soma)\n",
    "R = int(input(\"Não vai exceder qual número? \"))\n",
    "Fibonacci(F,R)"
   ]
  }
 ],
 "metadata": {
  "kernelspec": {
   "display_name": "Python 3",
   "language": "python",
   "name": "python3"
  },
  "language_info": {
   "codemirror_mode": {
    "name": "ipython",
    "version": 3
   },
   "file_extension": ".py",
   "mimetype": "text/x-python",
   "name": "python",
   "nbconvert_exporter": "python",
   "pygments_lexer": "ipython3",
   "version": "3.7.1"
  }
 },
 "nbformat": 4,
 "nbformat_minor": 2
}
